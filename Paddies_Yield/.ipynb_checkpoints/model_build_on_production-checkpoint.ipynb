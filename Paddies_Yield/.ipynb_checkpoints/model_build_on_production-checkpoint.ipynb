{
 "cells": [
  {
   "cell_type": "code",
   "execution_count": 1,
   "id": "8152a9ff-5c37-4dea-b482-ac109ff7cb55",
   "metadata": {},
   "outputs": [],
   "source": [
    "import pandas as pd\n",
    "df=pd.read_csv('dataset/rice_production.csv')"
   ]
  },
  {
   "cell_type": "code",
   "execution_count": 2,
   "id": "730f0e63-47b6-44b9-8006-9788a1922e45",
   "metadata": {},
   "outputs": [
    {
     "data": {
      "text/html": [
       "<div>\n",
       "<style scoped>\n",
       "    .dataframe tbody tr th:only-of-type {\n",
       "        vertical-align: middle;\n",
       "    }\n",
       "\n",
       "    .dataframe tbody tr th {\n",
       "        vertical-align: top;\n",
       "    }\n",
       "\n",
       "    .dataframe thead th {\n",
       "        text-align: right;\n",
       "    }\n",
       "</style>\n",
       "<table border=\"1\" class=\"dataframe\">\n",
       "  <thead>\n",
       "    <tr style=\"text-align: right;\">\n",
       "      <th></th>\n",
       "      <th>Season</th>\n",
       "      <th>State</th>\n",
       "      <th>Area(hec)</th>\n",
       "      <th>Production(Ton)</th>\n",
       "      <th>Yield(Ton/hector)</th>\n",
       "    </tr>\n",
       "  </thead>\n",
       "  <tbody>\n",
       "    <tr>\n",
       "      <th>0</th>\n",
       "      <td>0</td>\n",
       "      <td>0</td>\n",
       "      <td>607358.0</td>\n",
       "      <td>398311</td>\n",
       "      <td>0.780870</td>\n",
       "    </tr>\n",
       "    <tr>\n",
       "      <th>1</th>\n",
       "      <td>1</td>\n",
       "      <td>0</td>\n",
       "      <td>174974.0</td>\n",
       "      <td>209623</td>\n",
       "      <td>1.060435</td>\n",
       "    </tr>\n",
       "    <tr>\n",
       "      <th>2</th>\n",
       "      <td>3</td>\n",
       "      <td>0</td>\n",
       "      <td>1743321.0</td>\n",
       "      <td>1647296</td>\n",
       "      <td>0.941304</td>\n",
       "    </tr>\n",
       "    <tr>\n",
       "      <th>3</th>\n",
       "      <td>2</td>\n",
       "      <td>42</td>\n",
       "      <td>1031530.0</td>\n",
       "      <td>2340493</td>\n",
       "      <td>2.233500</td>\n",
       "    </tr>\n",
       "    <tr>\n",
       "      <th>4</th>\n",
       "      <td>3</td>\n",
       "      <td>42</td>\n",
       "      <td>53889.0</td>\n",
       "      <td>109350</td>\n",
       "      <td>2.073846</td>\n",
       "    </tr>\n",
       "    <tr>\n",
       "      <th>...</th>\n",
       "      <td>...</td>\n",
       "      <td>...</td>\n",
       "      <td>...</td>\n",
       "      <td>...</td>\n",
       "      <td>...</td>\n",
       "    </tr>\n",
       "    <tr>\n",
       "      <th>9995</th>\n",
       "      <td>3</td>\n",
       "      <td>58</td>\n",
       "      <td>100824.0</td>\n",
       "      <td>285614</td>\n",
       "      <td>2.832798</td>\n",
       "    </tr>\n",
       "    <tr>\n",
       "      <th>9996</th>\n",
       "      <td>2</td>\n",
       "      <td>56</td>\n",
       "      <td>2812400.0</td>\n",
       "      <td>7005800</td>\n",
       "      <td>2.491040</td>\n",
       "    </tr>\n",
       "    <tr>\n",
       "      <th>9997</th>\n",
       "      <td>3</td>\n",
       "      <td>0</td>\n",
       "      <td>1880737.0</td>\n",
       "      <td>3709081</td>\n",
       "      <td>1.972142</td>\n",
       "    </tr>\n",
       "    <tr>\n",
       "      <th>9998</th>\n",
       "      <td>2</td>\n",
       "      <td>43</td>\n",
       "      <td>52985.0</td>\n",
       "      <td>128945</td>\n",
       "      <td>2.433613</td>\n",
       "    </tr>\n",
       "    <tr>\n",
       "      <th>9999</th>\n",
       "      <td>2</td>\n",
       "      <td>24</td>\n",
       "      <td>3828992.0</td>\n",
       "      <td>5567644</td>\n",
       "      <td>1.454076</td>\n",
       "    </tr>\n",
       "  </tbody>\n",
       "</table>\n",
       "<p>10000 rows × 5 columns</p>\n",
       "</div>"
      ],
      "text/plain": [
       "      Season  State  Area(hec)  Production(Ton)  Yield(Ton/hector)\n",
       "0          0      0   607358.0           398311           0.780870\n",
       "1          1      0   174974.0           209623           1.060435\n",
       "2          3      0  1743321.0          1647296           0.941304\n",
       "3          2     42  1031530.0          2340493           2.233500\n",
       "4          3     42    53889.0           109350           2.073846\n",
       "...      ...    ...        ...              ...                ...\n",
       "9995       3     58   100824.0           285614           2.832798\n",
       "9996       2     56  2812400.0          7005800           2.491040\n",
       "9997       3      0  1880737.0          3709081           1.972142\n",
       "9998       2     43    52985.0           128945           2.433613\n",
       "9999       2     24  3828992.0          5567644           1.454076\n",
       "\n",
       "[10000 rows x 5 columns]"
      ]
     },
     "execution_count": 2,
     "metadata": {},
     "output_type": "execute_result"
    }
   ],
   "source": [
    "df"
   ]
  },
  {
   "cell_type": "code",
   "execution_count": 3,
   "id": "576909ba-c825-4c7f-bab6-96d4949a6f14",
   "metadata": {},
   "outputs": [
    {
     "data": {
      "text/html": [
       "<div>\n",
       "<style scoped>\n",
       "    .dataframe tbody tr th:only-of-type {\n",
       "        vertical-align: middle;\n",
       "    }\n",
       "\n",
       "    .dataframe tbody tr th {\n",
       "        vertical-align: top;\n",
       "    }\n",
       "\n",
       "    .dataframe thead th {\n",
       "        text-align: right;\n",
       "    }\n",
       "</style>\n",
       "<table border=\"1\" class=\"dataframe\">\n",
       "  <thead>\n",
       "    <tr style=\"text-align: right;\">\n",
       "      <th></th>\n",
       "      <th>Season</th>\n",
       "      <th>State</th>\n",
       "      <th>Area(hec)</th>\n",
       "      <th>Production(Ton)</th>\n",
       "      <th>Yield(Ton/hector)</th>\n",
       "    </tr>\n",
       "  </thead>\n",
       "  <tbody>\n",
       "    <tr>\n",
       "      <th>count</th>\n",
       "      <td>10000.000000</td>\n",
       "      <td>10000.000000</td>\n",
       "      <td>1.000000e+04</td>\n",
       "      <td>1.000000e+04</td>\n",
       "      <td>10000.000000</td>\n",
       "    </tr>\n",
       "    <tr>\n",
       "      <th>mean</th>\n",
       "      <td>1.763000</td>\n",
       "      <td>29.992300</td>\n",
       "      <td>8.059191e+05</td>\n",
       "      <td>1.817894e+06</td>\n",
       "      <td>2.295527</td>\n",
       "    </tr>\n",
       "    <tr>\n",
       "      <th>std</th>\n",
       "      <td>0.972279</td>\n",
       "      <td>20.344115</td>\n",
       "      <td>1.246921e+06</td>\n",
       "      <td>2.920696e+06</td>\n",
       "      <td>0.824821</td>\n",
       "    </tr>\n",
       "    <tr>\n",
       "      <th>min</th>\n",
       "      <td>0.000000</td>\n",
       "      <td>0.000000</td>\n",
       "      <td>7.000000e+00</td>\n",
       "      <td>6.000000e+00</td>\n",
       "      <td>0.016667</td>\n",
       "    </tr>\n",
       "    <tr>\n",
       "      <th>25%</th>\n",
       "      <td>1.000000</td>\n",
       "      <td>10.000000</td>\n",
       "      <td>3.309900e+04</td>\n",
       "      <td>7.848900e+04</td>\n",
       "      <td>1.705382</td>\n",
       "    </tr>\n",
       "    <tr>\n",
       "      <th>50%</th>\n",
       "      <td>2.000000</td>\n",
       "      <td>25.000000</td>\n",
       "      <td>2.126800e+05</td>\n",
       "      <td>4.559320e+05</td>\n",
       "      <td>2.282579</td>\n",
       "    </tr>\n",
       "    <tr>\n",
       "      <th>75%</th>\n",
       "      <td>2.000000</td>\n",
       "      <td>49.000000</td>\n",
       "      <td>1.185381e+06</td>\n",
       "      <td>2.625100e+06</td>\n",
       "      <td>2.830000</td>\n",
       "    </tr>\n",
       "    <tr>\n",
       "      <th>max</th>\n",
       "      <td>4.000000</td>\n",
       "      <td>63.000000</td>\n",
       "      <td>8.629000e+06</td>\n",
       "      <td>1.694800e+07</td>\n",
       "      <td>8.778276</td>\n",
       "    </tr>\n",
       "  </tbody>\n",
       "</table>\n",
       "</div>"
      ],
      "text/plain": [
       "             Season         State     Area(hec)  Production(Ton)  \\\n",
       "count  10000.000000  10000.000000  1.000000e+04     1.000000e+04   \n",
       "mean       1.763000     29.992300  8.059191e+05     1.817894e+06   \n",
       "std        0.972279     20.344115  1.246921e+06     2.920696e+06   \n",
       "min        0.000000      0.000000  7.000000e+00     6.000000e+00   \n",
       "25%        1.000000     10.000000  3.309900e+04     7.848900e+04   \n",
       "50%        2.000000     25.000000  2.126800e+05     4.559320e+05   \n",
       "75%        2.000000     49.000000  1.185381e+06     2.625100e+06   \n",
       "max        4.000000     63.000000  8.629000e+06     1.694800e+07   \n",
       "\n",
       "       Yield(Ton/hector)  \n",
       "count       10000.000000  \n",
       "mean            2.295527  \n",
       "std             0.824821  \n",
       "min             0.016667  \n",
       "25%             1.705382  \n",
       "50%             2.282579  \n",
       "75%             2.830000  \n",
       "max             8.778276  "
      ]
     },
     "execution_count": 3,
     "metadata": {},
     "output_type": "execute_result"
    }
   ],
   "source": [
    "df.describe()"
   ]
  },
  {
   "cell_type": "code",
   "execution_count": 4,
   "id": "07f853f3-5f39-4412-b591-606ede8848cf",
   "metadata": {},
   "outputs": [
    {
     "name": "stdout",
     "output_type": "stream",
     "text": [
      "<class 'pandas.core.frame.DataFrame'>\n",
      "RangeIndex: 10000 entries, 0 to 9999\n",
      "Data columns (total 5 columns):\n",
      " #   Column             Non-Null Count  Dtype  \n",
      "---  ------             --------------  -----  \n",
      " 0   Season             10000 non-null  int64  \n",
      " 1   State              10000 non-null  int64  \n",
      " 2   Area(hec)          10000 non-null  float64\n",
      " 3   Production(Ton)    10000 non-null  int64  \n",
      " 4   Yield(Ton/hector)  10000 non-null  float64\n",
      "dtypes: float64(2), int64(3)\n",
      "memory usage: 390.8 KB\n"
     ]
    }
   ],
   "source": [
    "df.info()"
   ]
  },
  {
   "cell_type": "code",
   "execution_count": 5,
   "id": "ebac5ab7-c0db-47b9-983c-7a9a8176b4c4",
   "metadata": {},
   "outputs": [
    {
     "data": {
      "text/plain": [
       "Season               0\n",
       "State                0\n",
       "Area(hec)            0\n",
       "Production(Ton)      0\n",
       "Yield(Ton/hector)    0\n",
       "dtype: int64"
      ]
     },
     "execution_count": 5,
     "metadata": {},
     "output_type": "execute_result"
    }
   ],
   "source": [
    "df.isnull().sum()"
   ]
  },
  {
   "cell_type": "code",
   "execution_count": 6,
   "id": "1b79cb60-2b94-45a8-a8ed-929dcb34871c",
   "metadata": {},
   "outputs": [],
   "source": [
    "from sklearn.model_selection import train_test_split\n",
    "from sklearn.preprocessing import StandardScaler"
   ]
  },
  {
   "cell_type": "code",
   "execution_count": 7,
   "id": "79d64d4e-0fe8-49a8-9899-f3cc48253d79",
   "metadata": {},
   "outputs": [
    {
     "name": "stdout",
     "output_type": "stream",
     "text": [
      "(8000, 3)\n",
      "(2000, 3)\n",
      "(8000, 2)\n",
      "(2000, 2)\n"
     ]
    }
   ],
   "source": [
    "X=df.drop(columns=['Production(Ton)','Yield(Ton/hector)']).values\n",
    "y=df[['Production(Ton)','Yield(Ton/hector)']].values\n",
    "\n",
    "X_train, X_test, y_train, y_test = train_test_split(X, y, test_size=0.2, random_state=42, shuffle=True)\n",
    "print(X_train.shape)\n",
    "print(X_test.shape)\n",
    "\n",
    "print(y_train.shape)\n",
    "print(y_test.shape)\n"
   ]
  },
  {
   "cell_type": "code",
   "execution_count": 8,
   "id": "798ac0e5-e045-40b1-9e63-c2cf3097b6ff",
   "metadata": {},
   "outputs": [],
   "source": [
    "scaler=StandardScaler()\n",
    "X_scaled_train=scaler.fit_transform(X_train)\n",
    "X_scaled_test=scaler.transform(X_test)"
   ]
  },
  {
   "cell_type": "code",
   "execution_count": 9,
   "id": "c587a848-7106-4c01-aeb9-0e7b112b6481",
   "metadata": {},
   "outputs": [
    {
     "name": "stdout",
     "output_type": "stream",
     "text": [
      "For  RandomForestRegressor\n",
      "0.9779839312686409\n",
      "For  MultiOutputRegressor\n",
      "0.18172711542914055\n",
      "For  ExtraTreesRegressor\n",
      "0.9760405572055666\n",
      "For  KNeighborsRegressor\n",
      "0.9696596587872703\n"
     ]
    }
   ],
   "source": [
    "from sklearn.linear_model import LinearRegression\n",
    "from sklearn.ensemble import RandomForestRegressor\n",
    "from sklearn.ensemble import ExtraTreesRegressor\n",
    "from sklearn.neighbors import KNeighborsRegressor\n",
    "from sklearn.multioutput import MultiOutputRegressor\n",
    "from sklearn.svm import SVR\n",
    "from sklearn.metrics import r2_score\n",
    "\n",
    "regs={\n",
    "    MultiOutputRegressor(SVR(kernel=\"rbf\", C=100, gamma=0.1, epsilon=0.1)),\n",
    "    KNeighborsRegressor(),\n",
    "    ExtraTreesRegressor(),\n",
    "    RandomForestRegressor()\n",
    "}\n",
    "\n",
    "for model in regs:\n",
    "    model_name=model.__class__.__name__\n",
    "    model.fit(X_scaled_train,y_train)\n",
    "    pred=model.predict(X_scaled_test)\n",
    "    r2=r2_score(y_test,pred)\n",
    "    print(\"For \",model_name)\n",
    "    print(r2)\n",
    "    \n",
    " "
   ]
  },
  {
   "cell_type": "code",
   "execution_count": 10,
   "id": "cbfb3f36-9512-4a09-af21-9fd6e3bb5c9e",
   "metadata": {},
   "outputs": [
    {
     "data": {
      "text/plain": [
       "0.9778027865567573"
      ]
     },
     "execution_count": 10,
     "metadata": {},
     "output_type": "execute_result"
    }
   ],
   "source": [
    "from sklearn.ensemble import RandomForestRegressor\n",
    "from sklearn.metrics import r2_score\n",
    "RF_prd=RandomForestRegressor()\n",
    "RF_prd.fit(X_scaled_train,y_train)\n",
    "pred=RF_prd.predict(X_scaled_test)\n",
    "score=r2_score(y_test,pred)\n",
    "score"
   ]
  },
  {
   "cell_type": "code",
   "execution_count": 11,
   "id": "db8b5373-068b-4243-9741-5e75bfc44a8b",
   "metadata": {},
   "outputs": [],
   "source": [
    "import pickle\n",
    "pickle.dump(RF_prd,open(\"pkl/RF_production.pkl\",'wb'))\n",
    "pickle.dump(scaler,open(\"pkl/scalerRF.pkl\",'wb'))"
   ]
  },
  {
   "cell_type": "code",
   "execution_count": null,
   "id": "a65d473d-b4d0-4f84-adee-921f8d754584",
   "metadata": {},
   "outputs": [],
   "source": []
  }
 ],
 "metadata": {
  "kernelspec": {
   "display_name": "Python 3 (ipykernel)",
   "language": "python",
   "name": "python3"
  },
  "language_info": {
   "codemirror_mode": {
    "name": "ipython",
    "version": 3
   },
   "file_extension": ".py",
   "mimetype": "text/x-python",
   "name": "python",
   "nbconvert_exporter": "python",
   "pygments_lexer": "ipython3",
   "version": "3.11.7"
  }
 },
 "nbformat": 4,
 "nbformat_minor": 5
}
